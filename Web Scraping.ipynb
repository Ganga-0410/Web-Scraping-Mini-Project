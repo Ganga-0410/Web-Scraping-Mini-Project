{
 "cells": [
  {
   "cell_type": "code",
   "execution_count": 45,
   "id": "baabc55b-4a3c-4a63-a506-4aed820d8c40",
   "metadata": {},
   "outputs": [],
   "source": [
    "from bs4 import BeautifulSoup\n",
    "import requests\n",
    "from requests.adapters import HTTPAdapter\n",
    "import openpyxl"
   ]
  },
  {
   "cell_type": "code",
   "execution_count": 63,
   "id": "54777b8d-f598-4113-ad68-7fbc2ea2ca11",
   "metadata": {},
   "outputs": [
    {
     "name": "stdout",
     "output_type": "stream",
     "text": [
      "1 google 10,360,865,830 4.77 35.99%\n"
     ]
    }
   ],
   "source": [
    "import requests\n",
    "from bs4 import BeautifulSoup\n",
    "from requests.adapters import HTTPAdapter\n",
    "\n",
    "url = \"https://www.semrush.com/website/top/india/all/\"\n",
    "try:\n",
    "    session = requests.Session()\n",
    "    session.mount('https://', HTTPAdapter(max_retries=5, pool_connections=10))\n",
    "    source = session.get(url, verify=False)\n",
    "    source.raise_for_status()\n",
    "\n",
    "    soup = BeautifulSoup(source.text, 'html.parser')\n",
    "\n",
    "    sites = soup.find('tbody').find_all('tr')\n",
    "    for site in sites:\n",
    "        names = site.find('td', class_='p_14px_8px bx-sh_inset_0_-1px_0_0_var(--shadow-color) bx-sh-c_grey.100 va_top ta_left').span.text.split('.')[0]\n",
    "        rank = site.find('td', class_='p_14px_8px_14px_0 bx-sh_inset_0_-1px_0_0_var(--shadow-color) bx-sh-c_grey.100 va_top ta_left').span.text\n",
    "        traffic_elements = site.find_all('td', class_='p_14px_8px bx-sh_inset_0_-1px_0_0_var(--shadow-color) bx-sh-c_grey.100 va_top ta_right')\n",
    "        traffic = traffic_elements[1].text.strip()\n",
    "        pages_visit = traffic_elements[2].text.strip()\n",
    "        bounce_rate = traffic_elements[3].text.strip()\n",
    "        \n",
    "        print(rank, names, traffic, pages_visit, bounce_rate)\n",
    "        break\n",
    "\n",
    "except Exception as e:\n",
    "    print(e)\n"
   ]
  },
  {
   "cell_type": "code",
   "execution_count": 53,
   "id": "65023433-a93e-4888-86f4-1fde9a53944e",
   "metadata": {},
   "outputs": [
    {
     "name": "stdout",
     "output_type": "stream",
     "text": [
      "['Sites with Highest Traffic']\n"
     ]
    }
   ],
   "source": [
    "import requests\n",
    "from bs4 import BeautifulSoup\n",
    "from requests.adapters import HTTPAdapter\n",
    "\n",
    "excel = openpyxl.Workbook()\n",
    "sheet = excel.active\n",
    "sheet.title='Sites with Highest Traffic'\n",
    "print(excel.sheetnames)\n",
    "sheet.append(['Site Rank', 'Site Name', 'Traffic', 'Pages / Visit', 'Bounce Rate'])\n",
    "\n",
    "url = \"https://www.semrush.com/website/top/india/all/\"\n",
    "try:\n",
    "    session = requests.Session()\n",
    "    session.mount('https://', HTTPAdapter(max_retries=5, pool_connections=10))\n",
    "    source = session.get(url, verify=False)\n",
    "    source.raise_for_status()\n",
    "\n",
    "    soup = BeautifulSoup(source.text, 'html.parser')\n",
    "\n",
    "    sites = soup.find('tbody').find_all('tr')\n",
    "    for site in sites:\n",
    "        names = site.find('td', class_='p_14px_8px bx-sh_inset_0_-1px_0_0_var(--shadow-color) bx-sh-c_grey.100 va_top ta_left').span.text.split('.')[0]\n",
    "        rank = site.find('td', class_='p_14px_8px_14px_0 bx-sh_inset_0_-1px_0_0_var(--shadow-color) bx-sh-c_grey.100 va_top ta_left').span.text\n",
    "        traffic_elements = site.find_all('td', class_='p_14px_8px bx-sh_inset_0_-1px_0_0_var(--shadow-color) bx-sh-c_grey.100 va_top ta_right')\n",
    "        traffic = traffic_elements[1].text.strip()\n",
    "        pages_visit = traffic_elements[2].text.strip()\n",
    "        bounce_rate = traffic_elements[3].text.strip()\n",
    "        \n",
    "        sheet.append([rank, names, traffic, pages_visit, bounce_rate])\n",
    "\n",
    "except Exception as e:\n",
    "    print(e)\n",
    "\n",
    "excel.save('Sites With High Traffic.xlsx')\n"
   ]
  },
  {
   "cell_type": "code",
   "execution_count": null,
   "id": "89a4f899-ef51-4920-bd82-27650bc84710",
   "metadata": {},
   "outputs": [],
   "source": []
  }
 ],
 "metadata": {
  "kernelspec": {
   "display_name": "Python 3 (ipykernel)",
   "language": "python",
   "name": "python3"
  },
  "language_info": {
   "codemirror_mode": {
    "name": "ipython",
    "version": 3
   },
   "file_extension": ".py",
   "mimetype": "text/x-python",
   "name": "python",
   "nbconvert_exporter": "python",
   "pygments_lexer": "ipython3",
   "version": "3.13.2"
  }
 },
 "nbformat": 4,
 "nbformat_minor": 5
}
